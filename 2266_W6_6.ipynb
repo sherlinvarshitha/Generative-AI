{
  "nbformat": 4,
  "nbformat_minor": 0,
  "metadata": {
    "colab": {
      "provenance": [],
      "mount_file_id": "18n9WHJZCoqgrUhZ2b9enSQgwZPPSbS5s",
      "authorship_tag": "ABX9TyNUFiaZoIi2hpgSdHhxZjgK",
      "include_colab_link": true
    },
    "kernelspec": {
      "name": "python3",
      "display_name": "Python 3"
    },
    "language_info": {
      "name": "python"
    }
  },
  "cells": [
    {
      "cell_type": "markdown",
      "metadata": {
        "id": "view-in-github",
        "colab_type": "text"
      },
      "source": [
        "<a href=\"https://colab.research.google.com/github/sherlinvarshitha/Generative-AI/blob/main/2266_W6_6.ipynb\" target=\"_parent\"><img src=\"https://colab.research.google.com/assets/colab-badge.svg\" alt=\"Open In Colab\"/></a>"
      ]
    },
    {
      "cell_type": "markdown",
      "source": [
        "1.(1 ponto) Design a multilayer ANN architecture according to the requirements shown below. Train, test, save (.h5) and deploy the model to predict the housing price using Keras deep learning library\n",
        "2.(1 ponto) Calculate training and testing error metrics\n",
        "3.(1 ponto) Build the application by loading the saved ANN model. Tabela 1: ANN Architecture Layer Neurons Activation Function\n",
        "\n",
        "Hidden Layer - 1 15 tanh\n",
        "\n",
        "Hidden Layer - 2 20 tanh\n",
        "\n",
        "Hidden Layer - 3 15 tanh\n",
        "\n",
        "Tabela 2: Training Parameters loss function epochs batch size error metric Optimizer Mean Square Error 100 16 Mean Square Error SGD"
      ],
      "metadata": {
        "id": "KYFpdX2mrj_2"
      }
    },
    {
      "cell_type": "code",
      "execution_count": 2,
      "metadata": {
        "id": "Msu3DHfKqd-U"
      },
      "outputs": [],
      "source": [
        "import pandas as pd\n",
        "from sklearn.model_selection import train_test_split\n",
        "from sklearn.preprocessing import StandardScaler\n",
        "import numpy as np\n",
        "from sklearn.preprocessing import OneHotEncoder\n",
        "\n",
        "url = '/content/Housing (2).csv'\n",
        "df = pd.read_csv(url)\n",
        "\n",
        "X = df.drop('price', axis=1)\n",
        "y = df['price']\n",
        "\n",
        "X_train, X_test, y_train, y_test = train_test_split(X, y, test_size=0.2, random_state=42)\n",
        "\n",
        "categorical_features = X_train.select_dtypes(include=['object']).columns\n",
        "\n",
        "encoder = OneHotEncoder(sparse_output=False, handle_unknown='ignore')\n",
        "encoded_features_train = encoder.fit_transform(X_train[categorical_features])\n",
        "encoded_features_test = encoder.transform(X_test[categorical_features])\n",
        "\n",
        "encoded_df_train = pd.DataFrame(encoded_features_train, columns=encoder.get_feature_names_out(categorical_features), index=X_train.index)\n",
        "encoded_df_test = pd.DataFrame(encoded_features_test, columns=encoder.get_feature_names_out(categorical_features), index=X_test.index)\n",
        "\n",
        "X_train = X_train.drop(categorical_features, axis=1)\n",
        "X_test = X_test.drop(categorical_features, axis=1)\n",
        "X_train = pd.concat([X_train, encoded_df_train], axis=1)\n",
        "X_test = pd.concat([X_test, encoded_df_test], axis=1)\n",
        "\n",
        "scaler = StandardScaler()\n",
        "X_train = scaler.fit_transform(X_train)\n",
        "X_test = scaler.transform(X_test)"
      ]
    },
    {
      "cell_type": "code",
      "source": [
        "from tensorflow.keras.models import Sequential\n",
        "from tensorflow.keras.layers import Dense\n",
        "from tensorflow.keras.optimizers import SGD\n",
        "from tensorflow.keras.metrics import MeanSquaredError\n",
        "\n",
        "model = Sequential()\n",
        "\n",
        "model.add(Dense(15, input_dim=X_train.shape[1], activation='tanh'))\n",
        "\n",
        "model.add(Dense(20, activation='tanh'))\n",
        "\n",
        "model.add(Dense(15, activation='tanh'))\n",
        "\n",
        "model.add(Dense(1))\n",
        "\n",
        "model.compile(loss='mean_squared_error',\n",
        "              optimizer=SGD(),\n",
        "              metrics=[MeanSquaredError()])"
      ],
      "metadata": {
        "id": "mjwA5WGIr4_i",
        "colab": {
          "base_uri": "https://localhost:8080/"
        },
        "outputId": "63fb2b93-66f0-46f8-ff64-468bec7f529b"
      },
      "execution_count": 3,
      "outputs": [
        {
          "output_type": "stream",
          "name": "stderr",
          "text": [
            "/usr/local/lib/python3.11/dist-packages/keras/src/layers/core/dense.py:87: UserWarning: Do not pass an `input_shape`/`input_dim` argument to a layer. When using Sequential models, prefer using an `Input(shape)` object as the first layer in the model instead.\n",
            "  super().__init__(activity_regularizer=activity_regularizer, **kwargs)\n"
          ]
        }
      ]
    },
    {
      "cell_type": "code",
      "source": [
        "# Train the model\n",
        "history = model.fit(X_train, y_train,\n",
        "                    epochs=100,\n",
        "                    batch_size=16,\n",
        "                    validation_data=(X_test, y_test))"
      ],
      "metadata": {
        "colab": {
          "base_uri": "https://localhost:8080/"
        },
        "id": "p4cQRZQvnhd_",
        "outputId": "29306cd5-fa2d-4acf-a5e1-bcd51d13c4b0"
      },
      "execution_count": 4,
      "outputs": [
        {
          "output_type": "stream",
          "name": "stdout",
          "text": [
            "Epoch 1/100\n",
            "\u001b[1m28/28\u001b[0m \u001b[32m━━━━━━━━━━━━━━━━━━━━\u001b[0m\u001b[37m\u001b[0m \u001b[1m2s\u001b[0m 18ms/step - loss: 9784755486720.0000 - mean_squared_error: 9784755486720.0000 - val_loss: 5561054134272.0000 - val_mean_squared_error: 5561054134272.0000\n",
            "Epoch 2/100\n",
            "\u001b[1m28/28\u001b[0m \u001b[32m━━━━━━━━━━━━━━━━━━━━\u001b[0m\u001b[37m\u001b[0m \u001b[1m0s\u001b[0m 7ms/step - loss: 3210481238016.0000 - mean_squared_error: 3210481238016.0000 - val_loss: 5063817297920.0000 - val_mean_squared_error: 5063817297920.0000\n",
            "Epoch 3/100\n",
            "\u001b[1m28/28\u001b[0m \u001b[32m━━━━━━━━━━━━━━━━━━━━\u001b[0m\u001b[37m\u001b[0m \u001b[1m0s\u001b[0m 7ms/step - loss: 3306990338048.0000 - mean_squared_error: 3306990338048.0000 - val_loss: 5098389897216.0000 - val_mean_squared_error: 5098389897216.0000\n",
            "Epoch 4/100\n",
            "\u001b[1m28/28\u001b[0m \u001b[32m━━━━━━━━━━━━━━━━━━━━\u001b[0m\u001b[37m\u001b[0m \u001b[1m0s\u001b[0m 8ms/step - loss: 3282926829568.0000 - mean_squared_error: 3282926829568.0000 - val_loss: 5058229436416.0000 - val_mean_squared_error: 5058229436416.0000\n",
            "Epoch 5/100\n",
            "\u001b[1m28/28\u001b[0m \u001b[32m━━━━━━━━━━━━━━━━━━━━\u001b[0m\u001b[37m\u001b[0m \u001b[1m0s\u001b[0m 9ms/step - loss: 3034763493376.0000 - mean_squared_error: 3034763493376.0000 - val_loss: 5084117729280.0000 - val_mean_squared_error: 5084117729280.0000\n",
            "Epoch 6/100\n",
            "\u001b[1m28/28\u001b[0m \u001b[32m━━━━━━━━━━━━━━━━━━━━\u001b[0m\u001b[37m\u001b[0m \u001b[1m0s\u001b[0m 8ms/step - loss: 3311065104384.0000 - mean_squared_error: 3311065104384.0000 - val_loss: 5191089258496.0000 - val_mean_squared_error: 5191088734208.0000\n",
            "Epoch 7/100\n",
            "\u001b[1m28/28\u001b[0m \u001b[32m━━━━━━━━━━━━━━━━━━━━\u001b[0m\u001b[37m\u001b[0m \u001b[1m0s\u001b[0m 8ms/step - loss: 3064713445376.0000 - mean_squared_error: 3064713445376.0000 - val_loss: 5128517058560.0000 - val_mean_squared_error: 5128517058560.0000\n",
            "Epoch 8/100\n",
            "\u001b[1m28/28\u001b[0m \u001b[32m━━━━━━━━━━━━━━━━━━━━\u001b[0m\u001b[37m\u001b[0m \u001b[1m0s\u001b[0m 4ms/step - loss: 3151495692288.0000 - mean_squared_error: 3151495692288.0000 - val_loss: 5635562799104.0000 - val_mean_squared_error: 5635562799104.0000\n",
            "Epoch 9/100\n",
            "\u001b[1m28/28\u001b[0m \u001b[32m━━━━━━━━━━━━━━━━━━━━\u001b[0m\u001b[37m\u001b[0m \u001b[1m0s\u001b[0m 4ms/step - loss: 2925620887552.0000 - mean_squared_error: 2925620887552.0000 - val_loss: 5281162461184.0000 - val_mean_squared_error: 5281162461184.0000\n",
            "Epoch 10/100\n",
            "\u001b[1m28/28\u001b[0m \u001b[32m━━━━━━━━━━━━━━━━━━━━\u001b[0m\u001b[37m\u001b[0m \u001b[1m0s\u001b[0m 5ms/step - loss: 3125525348352.0000 - mean_squared_error: 3125525348352.0000 - val_loss: 5237586264064.0000 - val_mean_squared_error: 5237586264064.0000\n",
            "Epoch 11/100\n",
            "\u001b[1m28/28\u001b[0m \u001b[32m━━━━━━━━━━━━━━━━━━━━\u001b[0m\u001b[37m\u001b[0m \u001b[1m0s\u001b[0m 4ms/step - loss: 3287209738240.0000 - mean_squared_error: 3287209738240.0000 - val_loss: 5673231843328.0000 - val_mean_squared_error: 5673231843328.0000\n",
            "Epoch 12/100\n",
            "\u001b[1m28/28\u001b[0m \u001b[32m━━━━━━━━━━━━━━━━━━━━\u001b[0m\u001b[37m\u001b[0m \u001b[1m0s\u001b[0m 6ms/step - loss: 3334086590464.0000 - mean_squared_error: 3334086590464.0000 - val_loss: 5543884226560.0000 - val_mean_squared_error: 5543884226560.0000\n",
            "Epoch 13/100\n",
            "\u001b[1m28/28\u001b[0m \u001b[32m━━━━━━━━━━━━━━━━━━━━\u001b[0m\u001b[37m\u001b[0m \u001b[1m0s\u001b[0m 4ms/step - loss: 2872246796288.0000 - mean_squared_error: 2872246796288.0000 - val_loss: 5163176689664.0000 - val_mean_squared_error: 5163176689664.0000\n",
            "Epoch 14/100\n",
            "\u001b[1m28/28\u001b[0m \u001b[32m━━━━━━━━━━━━━━━━━━━━\u001b[0m\u001b[37m\u001b[0m \u001b[1m0s\u001b[0m 5ms/step - loss: 3061215395840.0000 - mean_squared_error: 3061215395840.0000 - val_loss: 5284441358336.0000 - val_mean_squared_error: 5284441358336.0000\n",
            "Epoch 15/100\n",
            "\u001b[1m28/28\u001b[0m \u001b[32m━━━━━━━━━━━━━━━━━━━━\u001b[0m\u001b[37m\u001b[0m \u001b[1m0s\u001b[0m 5ms/step - loss: 2451636486144.0000 - mean_squared_error: 2451636486144.0000 - val_loss: 5100566740992.0000 - val_mean_squared_error: 5100566740992.0000\n",
            "Epoch 16/100\n",
            "\u001b[1m28/28\u001b[0m \u001b[32m━━━━━━━━━━━━━━━━━━━━\u001b[0m\u001b[37m\u001b[0m \u001b[1m0s\u001b[0m 6ms/step - loss: 2954333519872.0000 - mean_squared_error: 2954333519872.0000 - val_loss: 5069327040512.0000 - val_mean_squared_error: 5069327040512.0000\n",
            "Epoch 17/100\n",
            "\u001b[1m28/28\u001b[0m \u001b[32m━━━━━━━━━━━━━━━━━━━━\u001b[0m\u001b[37m\u001b[0m \u001b[1m0s\u001b[0m 4ms/step - loss: 3082820780032.0000 - mean_squared_error: 3082820780032.0000 - val_loss: 5206330834944.0000 - val_mean_squared_error: 5206330834944.0000\n",
            "Epoch 18/100\n",
            "\u001b[1m28/28\u001b[0m \u001b[32m━━━━━━━━━━━━━━━━━━━━\u001b[0m\u001b[37m\u001b[0m \u001b[1m0s\u001b[0m 4ms/step - loss: 2881935376384.0000 - mean_squared_error: 2881935376384.0000 - val_loss: 5299866435584.0000 - val_mean_squared_error: 5299866435584.0000\n",
            "Epoch 19/100\n",
            "\u001b[1m28/28\u001b[0m \u001b[32m━━━━━━━━━━━━━━━━━━━━\u001b[0m\u001b[37m\u001b[0m \u001b[1m0s\u001b[0m 6ms/step - loss: 3204119789568.0000 - mean_squared_error: 3204119789568.0000 - val_loss: 5452890898432.0000 - val_mean_squared_error: 5452890898432.0000\n",
            "Epoch 20/100\n",
            "\u001b[1m28/28\u001b[0m \u001b[32m━━━━━━━━━━━━━━━━━━━━\u001b[0m\u001b[37m\u001b[0m \u001b[1m0s\u001b[0m 5ms/step - loss: 3417156878336.0000 - mean_squared_error: 3417156878336.0000 - val_loss: 5765927010304.0000 - val_mean_squared_error: 5765927010304.0000\n",
            "Epoch 21/100\n",
            "\u001b[1m28/28\u001b[0m \u001b[32m━━━━━━━━━━━━━━━━━━━━\u001b[0m\u001b[37m\u001b[0m \u001b[1m0s\u001b[0m 6ms/step - loss: 3273077030912.0000 - mean_squared_error: 3273077030912.0000 - val_loss: 5084187459584.0000 - val_mean_squared_error: 5084187459584.0000\n",
            "Epoch 22/100\n",
            "\u001b[1m28/28\u001b[0m \u001b[32m━━━━━━━━━━━━━━━━━━━━\u001b[0m\u001b[37m\u001b[0m \u001b[1m0s\u001b[0m 6ms/step - loss: 3540858437632.0000 - mean_squared_error: 3540858437632.0000 - val_loss: 5216812400640.0000 - val_mean_squared_error: 5216812400640.0000\n",
            "Epoch 23/100\n",
            "\u001b[1m28/28\u001b[0m \u001b[32m━━━━━━━━━━━━━━━━━━━━\u001b[0m\u001b[37m\u001b[0m \u001b[1m0s\u001b[0m 6ms/step - loss: 2966730309632.0000 - mean_squared_error: 2966730309632.0000 - val_loss: 5236286554112.0000 - val_mean_squared_error: 5236286554112.0000\n",
            "Epoch 24/100\n",
            "\u001b[1m28/28\u001b[0m \u001b[32m━━━━━━━━━━━━━━━━━━━━\u001b[0m\u001b[37m\u001b[0m \u001b[1m0s\u001b[0m 4ms/step - loss: 3360298106880.0000 - mean_squared_error: 3360298106880.0000 - val_loss: 5091065069568.0000 - val_mean_squared_error: 5091065069568.0000\n",
            "Epoch 25/100\n",
            "\u001b[1m28/28\u001b[0m \u001b[32m━━━━━━━━━━━━━━━━━━━━\u001b[0m\u001b[37m\u001b[0m \u001b[1m0s\u001b[0m 5ms/step - loss: 2928102866944.0000 - mean_squared_error: 2928102866944.0000 - val_loss: 5409109704704.0000 - val_mean_squared_error: 5409109704704.0000\n",
            "Epoch 26/100\n",
            "\u001b[1m28/28\u001b[0m \u001b[32m━━━━━━━━━━━━━━━━━━━━\u001b[0m\u001b[37m\u001b[0m \u001b[1m0s\u001b[0m 4ms/step - loss: 3255301046272.0000 - mean_squared_error: 3255301046272.0000 - val_loss: 5191361363968.0000 - val_mean_squared_error: 5191361363968.0000\n",
            "Epoch 27/100\n",
            "\u001b[1m28/28\u001b[0m \u001b[32m━━━━━━━━━━━━━━━━━━━━\u001b[0m\u001b[37m\u001b[0m \u001b[1m0s\u001b[0m 6ms/step - loss: 3479953735680.0000 - mean_squared_error: 3479953735680.0000 - val_loss: 5297638211584.0000 - val_mean_squared_error: 5297638211584.0000\n",
            "Epoch 28/100\n",
            "\u001b[1m28/28\u001b[0m \u001b[32m━━━━━━━━━━━━━━━━━━━━\u001b[0m\u001b[37m\u001b[0m \u001b[1m0s\u001b[0m 4ms/step - loss: 3489842331648.0000 - mean_squared_error: 3489842331648.0000 - val_loss: 5579568840704.0000 - val_mean_squared_error: 5579568840704.0000\n",
            "Epoch 29/100\n",
            "\u001b[1m28/28\u001b[0m \u001b[32m━━━━━━━━━━━━━━━━━━━━\u001b[0m\u001b[37m\u001b[0m \u001b[1m0s\u001b[0m 4ms/step - loss: 2891205312512.0000 - mean_squared_error: 2891205312512.0000 - val_loss: 5099915575296.0000 - val_mean_squared_error: 5099915575296.0000\n",
            "Epoch 30/100\n",
            "\u001b[1m28/28\u001b[0m \u001b[32m━━━━━━━━━━━━━━━━━━━━\u001b[0m\u001b[37m\u001b[0m \u001b[1m0s\u001b[0m 5ms/step - loss: 2980201365504.0000 - mean_squared_error: 2980201365504.0000 - val_loss: 5866776428544.0000 - val_mean_squared_error: 5866776428544.0000\n",
            "Epoch 31/100\n",
            "\u001b[1m28/28\u001b[0m \u001b[32m━━━━━━━━━━━━━━━━━━━━\u001b[0m\u001b[37m\u001b[0m \u001b[1m0s\u001b[0m 4ms/step - loss: 3256582406144.0000 - mean_squared_error: 3256582406144.0000 - val_loss: 5078353182720.0000 - val_mean_squared_error: 5078353182720.0000\n",
            "Epoch 32/100\n",
            "\u001b[1m28/28\u001b[0m \u001b[32m━━━━━━━━━━━━━━━━━━━━\u001b[0m\u001b[37m\u001b[0m \u001b[1m0s\u001b[0m 5ms/step - loss: 2858367057920.0000 - mean_squared_error: 2858367057920.0000 - val_loss: 5602997698560.0000 - val_mean_squared_error: 5602997698560.0000\n",
            "Epoch 33/100\n",
            "\u001b[1m28/28\u001b[0m \u001b[32m━━━━━━━━━━━━━━━━━━━━\u001b[0m\u001b[37m\u001b[0m \u001b[1m0s\u001b[0m 4ms/step - loss: 3014602522624.0000 - mean_squared_error: 3014602522624.0000 - val_loss: 5221860769792.0000 - val_mean_squared_error: 5221860769792.0000\n",
            "Epoch 34/100\n",
            "\u001b[1m28/28\u001b[0m \u001b[32m━━━━━━━━━━━━━━━━━━━━\u001b[0m\u001b[37m\u001b[0m \u001b[1m0s\u001b[0m 4ms/step - loss: 3340497059840.0000 - mean_squared_error: 3340497059840.0000 - val_loss: 5455295807488.0000 - val_mean_squared_error: 5455295807488.0000\n",
            "Epoch 35/100\n",
            "\u001b[1m28/28\u001b[0m \u001b[32m━━━━━━━━━━━━━━━━━━━━\u001b[0m\u001b[37m\u001b[0m \u001b[1m0s\u001b[0m 4ms/step - loss: 3359590580224.0000 - mean_squared_error: 3359590580224.0000 - val_loss: 5055116738560.0000 - val_mean_squared_error: 5055116738560.0000\n",
            "Epoch 36/100\n",
            "\u001b[1m28/28\u001b[0m \u001b[32m━━━━━━━━━━━━━━━━━━━━\u001b[0m\u001b[37m\u001b[0m \u001b[1m0s\u001b[0m 4ms/step - loss: 2948609605632.0000 - mean_squared_error: 2948609605632.0000 - val_loss: 5343125438464.0000 - val_mean_squared_error: 5343125438464.0000\n",
            "Epoch 37/100\n",
            "\u001b[1m28/28\u001b[0m \u001b[32m━━━━━━━━━━━━━━━━━━━━\u001b[0m\u001b[37m\u001b[0m \u001b[1m0s\u001b[0m 4ms/step - loss: 3221527724032.0000 - mean_squared_error: 3221527724032.0000 - val_loss: 5057825210368.0000 - val_mean_squared_error: 5057825210368.0000\n",
            "Epoch 38/100\n",
            "\u001b[1m28/28\u001b[0m \u001b[32m━━━━━━━━━━━━━━━━━━━━\u001b[0m\u001b[37m\u001b[0m \u001b[1m0s\u001b[0m 4ms/step - loss: 3175707312128.0000 - mean_squared_error: 3175707312128.0000 - val_loss: 5138429771776.0000 - val_mean_squared_error: 5138429771776.0000\n",
            "Epoch 39/100\n",
            "\u001b[1m28/28\u001b[0m \u001b[32m━━━━━━━━━━━━━━━━━━━━\u001b[0m\u001b[37m\u001b[0m \u001b[1m0s\u001b[0m 6ms/step - loss: 3343513288704.0000 - mean_squared_error: 3343513288704.0000 - val_loss: 5063694614528.0000 - val_mean_squared_error: 5063694614528.0000\n",
            "Epoch 40/100\n",
            "\u001b[1m28/28\u001b[0m \u001b[32m━━━━━━━━━━━━━━━━━━━━\u001b[0m\u001b[37m\u001b[0m \u001b[1m0s\u001b[0m 4ms/step - loss: 2970126909440.0000 - mean_squared_error: 2970126909440.0000 - val_loss: 5061699698688.0000 - val_mean_squared_error: 5061699698688.0000\n",
            "Epoch 41/100\n",
            "\u001b[1m28/28\u001b[0m \u001b[32m━━━━━━━━━━━━━━━━━━━━\u001b[0m\u001b[37m\u001b[0m \u001b[1m0s\u001b[0m 6ms/step - loss: 2880225673216.0000 - mean_squared_error: 2880225673216.0000 - val_loss: 5157054054400.0000 - val_mean_squared_error: 5157054054400.0000\n",
            "Epoch 42/100\n",
            "\u001b[1m28/28\u001b[0m \u001b[32m━━━━━━━━━━━━━━━━━━━━\u001b[0m\u001b[37m\u001b[0m \u001b[1m0s\u001b[0m 4ms/step - loss: 3265320189952.0000 - mean_squared_error: 3265320189952.0000 - val_loss: 5396842414080.0000 - val_mean_squared_error: 5396842414080.0000\n",
            "Epoch 43/100\n",
            "\u001b[1m28/28\u001b[0m \u001b[32m━━━━━━━━━━━━━━━━━━━━\u001b[0m\u001b[37m\u001b[0m \u001b[1m0s\u001b[0m 5ms/step - loss: 3178435706880.0000 - mean_squared_error: 3178435706880.0000 - val_loss: 5112363220992.0000 - val_mean_squared_error: 5112363220992.0000\n",
            "Epoch 44/100\n",
            "\u001b[1m28/28\u001b[0m \u001b[32m━━━━━━━━━━━━━━━━━━━━\u001b[0m\u001b[37m\u001b[0m \u001b[1m0s\u001b[0m 4ms/step - loss: 2901497348096.0000 - mean_squared_error: 2901497348096.0000 - val_loss: 5146327646208.0000 - val_mean_squared_error: 5146327646208.0000\n",
            "Epoch 45/100\n",
            "\u001b[1m28/28\u001b[0m \u001b[32m━━━━━━━━━━━━━━━━━━━━\u001b[0m\u001b[37m\u001b[0m \u001b[1m0s\u001b[0m 5ms/step - loss: 3030419505152.0000 - mean_squared_error: 3030419505152.0000 - val_loss: 5076205699072.0000 - val_mean_squared_error: 5076205699072.0000\n",
            "Epoch 46/100\n",
            "\u001b[1m28/28\u001b[0m \u001b[32m━━━━━━━━━━━━━━━━━━━━\u001b[0m\u001b[37m\u001b[0m \u001b[1m0s\u001b[0m 4ms/step - loss: 2902740697088.0000 - mean_squared_error: 2902740697088.0000 - val_loss: 5055555567616.0000 - val_mean_squared_error: 5055555567616.0000\n",
            "Epoch 47/100\n",
            "\u001b[1m28/28\u001b[0m \u001b[32m━━━━━━━━━━━━━━━━━━━━\u001b[0m\u001b[37m\u001b[0m \u001b[1m0s\u001b[0m 5ms/step - loss: 3166603313152.0000 - mean_squared_error: 3166603313152.0000 - val_loss: 5055679823872.0000 - val_mean_squared_error: 5055679823872.0000\n",
            "Epoch 48/100\n",
            "\u001b[1m28/28\u001b[0m \u001b[32m━━━━━━━━━━━━━━━━━━━━\u001b[0m\u001b[37m\u001b[0m \u001b[1m0s\u001b[0m 4ms/step - loss: 2916759109632.0000 - mean_squared_error: 2916759109632.0000 - val_loss: 5301807349760.0000 - val_mean_squared_error: 5301807349760.0000\n",
            "Epoch 49/100\n",
            "\u001b[1m28/28\u001b[0m \u001b[32m━━━━━━━━━━━━━━━━━━━━\u001b[0m\u001b[37m\u001b[0m \u001b[1m0s\u001b[0m 6ms/step - loss: 3390475862016.0000 - mean_squared_error: 3390475862016.0000 - val_loss: 5304474927104.0000 - val_mean_squared_error: 5304474927104.0000\n",
            "Epoch 50/100\n",
            "\u001b[1m28/28\u001b[0m \u001b[32m━━━━━━━━━━━━━━━━━━━━\u001b[0m\u001b[37m\u001b[0m \u001b[1m0s\u001b[0m 5ms/step - loss: 3068611264512.0000 - mean_squared_error: 3068611264512.0000 - val_loss: 5213758947328.0000 - val_mean_squared_error: 5213758947328.0000\n",
            "Epoch 51/100\n",
            "\u001b[1m28/28\u001b[0m \u001b[32m━━━━━━━━━━━━━━━━━━━━\u001b[0m\u001b[37m\u001b[0m \u001b[1m0s\u001b[0m 7ms/step - loss: 3137371373568.0000 - mean_squared_error: 3137371373568.0000 - val_loss: 5083935801344.0000 - val_mean_squared_error: 5083935801344.0000\n",
            "Epoch 52/100\n",
            "\u001b[1m28/28\u001b[0m \u001b[32m━━━━━━━━━━━━━━━━━━━━\u001b[0m\u001b[37m\u001b[0m \u001b[1m0s\u001b[0m 7ms/step - loss: 2950069223424.0000 - mean_squared_error: 2950069223424.0000 - val_loss: 5098380984320.0000 - val_mean_squared_error: 5098380984320.0000\n",
            "Epoch 53/100\n",
            "\u001b[1m28/28\u001b[0m \u001b[32m━━━━━━━━━━━━━━━━━━━━\u001b[0m\u001b[37m\u001b[0m \u001b[1m0s\u001b[0m 8ms/step - loss: 3126806970368.0000 - mean_squared_error: 3126806970368.0000 - val_loss: 5075157647360.0000 - val_mean_squared_error: 5075157647360.0000\n",
            "Epoch 54/100\n",
            "\u001b[1m28/28\u001b[0m \u001b[32m━━━━━━━━━━━━━━━━━━━━\u001b[0m\u001b[37m\u001b[0m \u001b[1m0s\u001b[0m 7ms/step - loss: 3674181992448.0000 - mean_squared_error: 3674181992448.0000 - val_loss: 5142885171200.0000 - val_mean_squared_error: 5142885171200.0000\n",
            "Epoch 55/100\n",
            "\u001b[1m28/28\u001b[0m \u001b[32m━━━━━━━━━━━━━━━━━━━━\u001b[0m\u001b[37m\u001b[0m \u001b[1m0s\u001b[0m 8ms/step - loss: 2788712775680.0000 - mean_squared_error: 2788712775680.0000 - val_loss: 5120923795456.0000 - val_mean_squared_error: 5120923795456.0000\n",
            "Epoch 56/100\n",
            "\u001b[1m28/28\u001b[0m \u001b[32m━━━━━━━━━━━━━━━━━━━━\u001b[0m\u001b[37m\u001b[0m \u001b[1m0s\u001b[0m 7ms/step - loss: 3115893391360.0000 - mean_squared_error: 3115893391360.0000 - val_loss: 5063641661440.0000 - val_mean_squared_error: 5063641661440.0000\n",
            "Epoch 57/100\n",
            "\u001b[1m28/28\u001b[0m \u001b[32m━━━━━━━━━━━━━━━━━━━━\u001b[0m\u001b[37m\u001b[0m \u001b[1m0s\u001b[0m 6ms/step - loss: 2693622923264.0000 - mean_squared_error: 2693622923264.0000 - val_loss: 5639402684416.0000 - val_mean_squared_error: 5639402684416.0000\n",
            "Epoch 58/100\n",
            "\u001b[1m28/28\u001b[0m \u001b[32m━━━━━━━━━━━━━━━━━━━━\u001b[0m\u001b[37m\u001b[0m \u001b[1m0s\u001b[0m 8ms/step - loss: 2593423360000.0000 - mean_squared_error: 2593423360000.0000 - val_loss: 5294621982720.0000 - val_mean_squared_error: 5294621982720.0000\n",
            "Epoch 59/100\n",
            "\u001b[1m28/28\u001b[0m \u001b[32m━━━━━━━━━━━━━━━━━━━━\u001b[0m\u001b[37m\u001b[0m \u001b[1m0s\u001b[0m 8ms/step - loss: 2846924996608.0000 - mean_squared_error: 2846924996608.0000 - val_loss: 5417030647808.0000 - val_mean_squared_error: 5417030647808.0000\n",
            "Epoch 60/100\n",
            "\u001b[1m28/28\u001b[0m \u001b[32m━━━━━━━━━━━━━━━━━━━━\u001b[0m\u001b[37m\u001b[0m \u001b[1m0s\u001b[0m 7ms/step - loss: 3086326169600.0000 - mean_squared_error: 3086326169600.0000 - val_loss: 5170697076736.0000 - val_mean_squared_error: 5170697076736.0000\n",
            "Epoch 61/100\n",
            "\u001b[1m28/28\u001b[0m \u001b[32m━━━━━━━━━━━━━━━━━━━━\u001b[0m\u001b[37m\u001b[0m \u001b[1m0s\u001b[0m 8ms/step - loss: 3072402391040.0000 - mean_squared_error: 3072402391040.0000 - val_loss: 5103966224384.0000 - val_mean_squared_error: 5103966224384.0000\n",
            "Epoch 62/100\n",
            "\u001b[1m28/28\u001b[0m \u001b[32m━━━━━━━━━━━━━━━━━━━━\u001b[0m\u001b[37m\u001b[0m \u001b[1m0s\u001b[0m 4ms/step - loss: 3053623967744.0000 - mean_squared_error: 3053623967744.0000 - val_loss: 5201565057024.0000 - val_mean_squared_error: 5201565057024.0000\n",
            "Epoch 63/100\n",
            "\u001b[1m28/28\u001b[0m \u001b[32m━━━━━━━━━━━━━━━━━━━━\u001b[0m\u001b[37m\u001b[0m \u001b[1m0s\u001b[0m 5ms/step - loss: 2966814195712.0000 - mean_squared_error: 2966814195712.0000 - val_loss: 5441203470336.0000 - val_mean_squared_error: 5441203470336.0000\n",
            "Epoch 64/100\n",
            "\u001b[1m28/28\u001b[0m \u001b[32m━━━━━━━━━━━━━━━━━━━━\u001b[0m\u001b[37m\u001b[0m \u001b[1m0s\u001b[0m 5ms/step - loss: 3249775837184.0000 - mean_squared_error: 3249775837184.0000 - val_loss: 5070422802432.0000 - val_mean_squared_error: 5070423326720.0000\n",
            "Epoch 65/100\n",
            "\u001b[1m28/28\u001b[0m \u001b[32m━━━━━━━━━━━━━━━━━━━━\u001b[0m\u001b[37m\u001b[0m \u001b[1m0s\u001b[0m 5ms/step - loss: 3436702334976.0000 - mean_squared_error: 3436702334976.0000 - val_loss: 5715181699072.0000 - val_mean_squared_error: 5715181699072.0000\n",
            "Epoch 66/100\n",
            "\u001b[1m28/28\u001b[0m \u001b[32m━━━━━━━━━━━━━━━━━━━━\u001b[0m\u001b[37m\u001b[0m \u001b[1m0s\u001b[0m 6ms/step - loss: 3580165095424.0000 - mean_squared_error: 3580165095424.0000 - val_loss: 5718866395136.0000 - val_mean_squared_error: 5718866395136.0000\n",
            "Epoch 67/100\n",
            "\u001b[1m28/28\u001b[0m \u001b[32m━━━━━━━━━━━━━━━━━━━━\u001b[0m\u001b[37m\u001b[0m \u001b[1m0s\u001b[0m 5ms/step - loss: 3480560074752.0000 - mean_squared_error: 3480560074752.0000 - val_loss: 5168315760640.0000 - val_mean_squared_error: 5168315760640.0000\n",
            "Epoch 68/100\n",
            "\u001b[1m28/28\u001b[0m \u001b[32m━━━━━━━━━━━━━━━━━━━━\u001b[0m\u001b[37m\u001b[0m \u001b[1m0s\u001b[0m 5ms/step - loss: 2944788070400.0000 - mean_squared_error: 2944788070400.0000 - val_loss: 5269611347968.0000 - val_mean_squared_error: 5269611347968.0000\n",
            "Epoch 69/100\n",
            "\u001b[1m28/28\u001b[0m \u001b[32m━━━━━━━━━━━━━━━━━━━━\u001b[0m\u001b[37m\u001b[0m \u001b[1m0s\u001b[0m 4ms/step - loss: 3353006309376.0000 - mean_squared_error: 3353006309376.0000 - val_loss: 5066418290688.0000 - val_mean_squared_error: 5066418290688.0000\n",
            "Epoch 70/100\n",
            "\u001b[1m28/28\u001b[0m \u001b[32m━━━━━━━━━━━━━━━━━━━━\u001b[0m\u001b[37m\u001b[0m \u001b[1m0s\u001b[0m 5ms/step - loss: 2997979185152.0000 - mean_squared_error: 2997979185152.0000 - val_loss: 5552087236608.0000 - val_mean_squared_error: 5552087236608.0000\n",
            "Epoch 71/100\n",
            "\u001b[1m28/28\u001b[0m \u001b[32m━━━━━━━━━━━━━━━━━━━━\u001b[0m\u001b[37m\u001b[0m \u001b[1m0s\u001b[0m 5ms/step - loss: 3432283373568.0000 - mean_squared_error: 3432283373568.0000 - val_loss: 5549805535232.0000 - val_mean_squared_error: 5549805535232.0000\n",
            "Epoch 72/100\n",
            "\u001b[1m28/28\u001b[0m \u001b[32m━━━━━━━━━━━━━━━━━━━━\u001b[0m\u001b[37m\u001b[0m \u001b[1m0s\u001b[0m 5ms/step - loss: 2960145514496.0000 - mean_squared_error: 2960145514496.0000 - val_loss: 5252426760192.0000 - val_mean_squared_error: 5252426760192.0000\n",
            "Epoch 73/100\n",
            "\u001b[1m28/28\u001b[0m \u001b[32m━━━━━━━━━━━━━━━━━━━━\u001b[0m\u001b[37m\u001b[0m \u001b[1m0s\u001b[0m 5ms/step - loss: 3313125031936.0000 - mean_squared_error: 3313125031936.0000 - val_loss: 5079164256256.0000 - val_mean_squared_error: 5079164256256.0000\n",
            "Epoch 74/100\n",
            "\u001b[1m28/28\u001b[0m \u001b[32m━━━━━━━━━━━━━━━━━━━━\u001b[0m\u001b[37m\u001b[0m \u001b[1m0s\u001b[0m 5ms/step - loss: 2956010717184.0000 - mean_squared_error: 2956010717184.0000 - val_loss: 5274653949952.0000 - val_mean_squared_error: 5274653949952.0000\n",
            "Epoch 75/100\n",
            "\u001b[1m28/28\u001b[0m \u001b[32m━━━━━━━━━━━━━━━━━━━━\u001b[0m\u001b[37m\u001b[0m \u001b[1m0s\u001b[0m 5ms/step - loss: 3008508723200.0000 - mean_squared_error: 3008508723200.0000 - val_loss: 5064445919232.0000 - val_mean_squared_error: 5064445919232.0000\n",
            "Epoch 76/100\n",
            "\u001b[1m28/28\u001b[0m \u001b[32m━━━━━━━━━━━━━━━━━━━━\u001b[0m\u001b[37m\u001b[0m \u001b[1m0s\u001b[0m 4ms/step - loss: 2996022804480.0000 - mean_squared_error: 2996022804480.0000 - val_loss: 5304775344128.0000 - val_mean_squared_error: 5304775344128.0000\n",
            "Epoch 77/100\n",
            "\u001b[1m28/28\u001b[0m \u001b[32m━━━━━━━━━━━━━━━━━━━━\u001b[0m\u001b[37m\u001b[0m \u001b[1m0s\u001b[0m 4ms/step - loss: 3205450694656.0000 - mean_squared_error: 3205450694656.0000 - val_loss: 5185727889408.0000 - val_mean_squared_error: 5185727889408.0000\n",
            "Epoch 78/100\n",
            "\u001b[1m28/28\u001b[0m \u001b[32m━━━━━━━━━━━━━━━━━━━━\u001b[0m\u001b[37m\u001b[0m \u001b[1m0s\u001b[0m 4ms/step - loss: 3137830649856.0000 - mean_squared_error: 3137830649856.0000 - val_loss: 5054612373504.0000 - val_mean_squared_error: 5054612373504.0000\n",
            "Epoch 79/100\n",
            "\u001b[1m28/28\u001b[0m \u001b[32m━━━━━━━━━━━━━━━━━━━━\u001b[0m\u001b[37m\u001b[0m \u001b[1m0s\u001b[0m 4ms/step - loss: 3446968156160.0000 - mean_squared_error: 3446968156160.0000 - val_loss: 5218035564544.0000 - val_mean_squared_error: 5218035564544.0000\n",
            "Epoch 80/100\n",
            "\u001b[1m28/28\u001b[0m \u001b[32m━━━━━━━━━━━━━━━━━━━━\u001b[0m\u001b[37m\u001b[0m \u001b[1m0s\u001b[0m 6ms/step - loss: 3315115229184.0000 - mean_squared_error: 3315115229184.0000 - val_loss: 5093186863104.0000 - val_mean_squared_error: 5093186863104.0000\n",
            "Epoch 81/100\n",
            "\u001b[1m28/28\u001b[0m \u001b[32m━━━━━━━━━━━━━━━━━━━━\u001b[0m\u001b[37m\u001b[0m \u001b[1m0s\u001b[0m 5ms/step - loss: 3370755293184.0000 - mean_squared_error: 3370755293184.0000 - val_loss: 5115183366144.0000 - val_mean_squared_error: 5115183366144.0000\n",
            "Epoch 82/100\n",
            "\u001b[1m28/28\u001b[0m \u001b[32m━━━━━━━━━━━━━━━━━━━━\u001b[0m\u001b[37m\u001b[0m \u001b[1m0s\u001b[0m 5ms/step - loss: 3634314870784.0000 - mean_squared_error: 3634314870784.0000 - val_loss: 5231445803008.0000 - val_mean_squared_error: 5231445803008.0000\n",
            "Epoch 83/100\n",
            "\u001b[1m28/28\u001b[0m \u001b[32m━━━━━━━━━━━━━━━━━━━━\u001b[0m\u001b[37m\u001b[0m \u001b[1m0s\u001b[0m 5ms/step - loss: 3091528417280.0000 - mean_squared_error: 3091528417280.0000 - val_loss: 5267653132288.0000 - val_mean_squared_error: 5267653132288.0000\n",
            "Epoch 84/100\n",
            "\u001b[1m28/28\u001b[0m \u001b[32m━━━━━━━━━━━━━━━━━━━━\u001b[0m\u001b[37m\u001b[0m \u001b[1m0s\u001b[0m 6ms/step - loss: 3371084546048.0000 - mean_squared_error: 3371084546048.0000 - val_loss: 5480548139008.0000 - val_mean_squared_error: 5480548139008.0000\n",
            "Epoch 85/100\n",
            "\u001b[1m28/28\u001b[0m \u001b[32m━━━━━━━━━━━━━━━━━━━━\u001b[0m\u001b[37m\u001b[0m \u001b[1m0s\u001b[0m 5ms/step - loss: 2959164047360.0000 - mean_squared_error: 2959164047360.0000 - val_loss: 5076446871552.0000 - val_mean_squared_error: 5076446871552.0000\n",
            "Epoch 86/100\n",
            "\u001b[1m28/28\u001b[0m \u001b[32m━━━━━━━━━━━━━━━━━━━━\u001b[0m\u001b[37m\u001b[0m \u001b[1m0s\u001b[0m 5ms/step - loss: 3251918864384.0000 - mean_squared_error: 3251918864384.0000 - val_loss: 5213146578944.0000 - val_mean_squared_error: 5213146578944.0000\n",
            "Epoch 87/100\n",
            "\u001b[1m28/28\u001b[0m \u001b[32m━━━━━━━━━━━━━━━━━━━━\u001b[0m\u001b[37m\u001b[0m \u001b[1m0s\u001b[0m 4ms/step - loss: 3044418519040.0000 - mean_squared_error: 3044418519040.0000 - val_loss: 5082514980864.0000 - val_mean_squared_error: 5082514980864.0000\n",
            "Epoch 88/100\n",
            "\u001b[1m28/28\u001b[0m \u001b[32m━━━━━━━━━━━━━━━━━━━━\u001b[0m\u001b[37m\u001b[0m \u001b[1m0s\u001b[0m 4ms/step - loss: 3137994227712.0000 - mean_squared_error: 3137994227712.0000 - val_loss: 5136392912896.0000 - val_mean_squared_error: 5136392912896.0000\n",
            "Epoch 89/100\n",
            "\u001b[1m28/28\u001b[0m \u001b[32m━━━━━━━━━━━━━━━━━━━━\u001b[0m\u001b[37m\u001b[0m \u001b[1m0s\u001b[0m 4ms/step - loss: 3082250092544.0000 - mean_squared_error: 3082250092544.0000 - val_loss: 5082037354496.0000 - val_mean_squared_error: 5082037354496.0000\n",
            "Epoch 90/100\n",
            "\u001b[1m28/28\u001b[0m \u001b[32m━━━━━━━━━━━━━━━━━━━━\u001b[0m\u001b[37m\u001b[0m \u001b[1m0s\u001b[0m 4ms/step - loss: 3382743400448.0000 - mean_squared_error: 3382743400448.0000 - val_loss: 5112036065280.0000 - val_mean_squared_error: 5112036065280.0000\n",
            "Epoch 91/100\n",
            "\u001b[1m28/28\u001b[0m \u001b[32m━━━━━━━━━━━━━━━━━━━━\u001b[0m\u001b[37m\u001b[0m \u001b[1m0s\u001b[0m 4ms/step - loss: 3028670480384.0000 - mean_squared_error: 3028670480384.0000 - val_loss: 5231920807936.0000 - val_mean_squared_error: 5231920807936.0000\n",
            "Epoch 92/100\n",
            "\u001b[1m28/28\u001b[0m \u001b[32m━━━━━━━━━━━━━━━━━━━━\u001b[0m\u001b[37m\u001b[0m \u001b[1m0s\u001b[0m 4ms/step - loss: 2763393859584.0000 - mean_squared_error: 2763393859584.0000 - val_loss: 5305403965440.0000 - val_mean_squared_error: 5305403965440.0000\n",
            "Epoch 93/100\n",
            "\u001b[1m28/28\u001b[0m \u001b[32m━━━━━━━━━━━━━━━━━━━━\u001b[0m\u001b[37m\u001b[0m \u001b[1m0s\u001b[0m 7ms/step - loss: 3176471724032.0000 - mean_squared_error: 3176471724032.0000 - val_loss: 5248892010496.0000 - val_mean_squared_error: 5248892010496.0000\n",
            "Epoch 94/100\n",
            "\u001b[1m28/28\u001b[0m \u001b[32m━━━━━━━━━━━━━━━━━━━━\u001b[0m\u001b[37m\u001b[0m \u001b[1m0s\u001b[0m 4ms/step - loss: 2994307334144.0000 - mean_squared_error: 2994307334144.0000 - val_loss: 5239942414336.0000 - val_mean_squared_error: 5239942414336.0000\n",
            "Epoch 95/100\n",
            "\u001b[1m28/28\u001b[0m \u001b[32m━━━━━━━━━━━━━━━━━━━━\u001b[0m\u001b[37m\u001b[0m \u001b[1m0s\u001b[0m 4ms/step - loss: 3195625537536.0000 - mean_squared_error: 3195625537536.0000 - val_loss: 5158152437760.0000 - val_mean_squared_error: 5158152437760.0000\n",
            "Epoch 96/100\n",
            "\u001b[1m28/28\u001b[0m \u001b[32m━━━━━━━━━━━━━━━━━━━━\u001b[0m\u001b[37m\u001b[0m \u001b[1m0s\u001b[0m 5ms/step - loss: 2897184555008.0000 - mean_squared_error: 2897184555008.0000 - val_loss: 5065626615808.0000 - val_mean_squared_error: 5065626615808.0000\n",
            "Epoch 97/100\n",
            "\u001b[1m28/28\u001b[0m \u001b[32m━━━━━━━━━━━━━━━━━━━━\u001b[0m\u001b[37m\u001b[0m \u001b[1m0s\u001b[0m 5ms/step - loss: 2743244423168.0000 - mean_squared_error: 2743244423168.0000 - val_loss: 5074195578880.0000 - val_mean_squared_error: 5074195578880.0000\n",
            "Epoch 98/100\n",
            "\u001b[1m28/28\u001b[0m \u001b[32m━━━━━━━━━━━━━━━━━━━━\u001b[0m\u001b[37m\u001b[0m \u001b[1m0s\u001b[0m 5ms/step - loss: 2878886903808.0000 - mean_squared_error: 2878886903808.0000 - val_loss: 5054903353344.0000 - val_mean_squared_error: 5054903353344.0000\n",
            "Epoch 99/100\n",
            "\u001b[1m28/28\u001b[0m \u001b[32m━━━━━━━━━━━━━━━━━━━━\u001b[0m\u001b[37m\u001b[0m \u001b[1m0s\u001b[0m 4ms/step - loss: 2805860925440.0000 - mean_squared_error: 2805860925440.0000 - val_loss: 5085032611840.0000 - val_mean_squared_error: 5085032611840.0000\n",
            "Epoch 100/100\n",
            "\u001b[1m28/28\u001b[0m \u001b[32m━━━━━━━━━━━━━━━━━━━━\u001b[0m\u001b[37m\u001b[0m \u001b[1m0s\u001b[0m 6ms/step - loss: 3067178909696.0000 - mean_squared_error: 3067178909696.0000 - val_loss: 5112960909312.0000 - val_mean_squared_error: 5112960909312.0000\n"
          ]
        }
      ]
    },
    {
      "cell_type": "code",
      "source": [
        "# Calculate the training error\n",
        "train_loss, train_mse = model.evaluate(X_train, y_train)\n",
        "print(f\"Training MSE: {train_mse}\")\n",
        "\n"
      ],
      "metadata": {
        "colab": {
          "base_uri": "https://localhost:8080/"
        },
        "id": "LRAOt87EnvSP",
        "outputId": "ab93a743-10b7-4d05-bf47-142c0e589f0b"
      },
      "execution_count": 5,
      "outputs": [
        {
          "output_type": "stream",
          "name": "stdout",
          "text": [
            "\u001b[1m14/14\u001b[0m \u001b[32m━━━━━━━━━━━━━━━━━━━━\u001b[0m\u001b[37m\u001b[0m \u001b[1m0s\u001b[0m 4ms/step - loss: 3125633875968.0000 - mean_squared_error: 3125633875968.0000 \n",
            "Training MSE: 3086916517888.0\n"
          ]
        }
      ]
    },
    {
      "cell_type": "code",
      "source": [
        "# Calculate the testing error\n",
        "test_loss, test_mse = model.evaluate(X_test, y_test)\n",
        "print(f\"Testing MSE: {test_mse}\")"
      ],
      "metadata": {
        "colab": {
          "base_uri": "https://localhost:8080/"
        },
        "id": "i1UuY__4oVSH",
        "outputId": "46d77ea8-7c6a-4280-e74a-dfd486a47586"
      },
      "execution_count": 7,
      "outputs": [
        {
          "output_type": "stream",
          "name": "stdout",
          "text": [
            "\u001b[1m4/4\u001b[0m \u001b[32m━━━━━━━━━━━━━━━━━━━━\u001b[0m\u001b[37m\u001b[0m \u001b[1m0s\u001b[0m 13ms/step - loss: 5249724579840.0000 - mean_squared_error: 5249724579840.0000\n",
            "Testing MSE: 5112960909312.0\n"
          ]
        }
      ]
    },
    {
      "cell_type": "code",
      "source": [
        "# Save the trained model\n",
        "model.save('/content/housing_price_model.h5')\n",
        "\n",
        "from tensorflow.keras.models import load_model\n",
        "\n",
        "loaded_model = load_model('/content/housing_price_model.h5')\n",
        "\n",
        "predictions = loaded_model.predict(X_test)\n",
        "\n",
        "for actual, predicted in zip(y_test[:10], predictions[:10]):\n",
        "    print(f\"Actual: {actual}, Predicted: {predicted[0]}\")"
      ],
      "metadata": {
        "colab": {
          "base_uri": "https://localhost:8080/"
        },
        "id": "_0yaPyeUogSG",
        "outputId": "abc8b72a-d176-45ee-bd85-5abf4d01c844"
      },
      "execution_count": 8,
      "outputs": [
        {
          "output_type": "stream",
          "name": "stderr",
          "text": [
            "WARNING:absl:You are saving your model as an HDF5 file via `model.save()` or `keras.saving.save_model(model)`. This file format is considered legacy. We recommend using instead the native Keras format, e.g. `model.save('my_model.keras')` or `keras.saving.save_model(model, 'my_model.keras')`. \n",
            "WARNING:absl:Compiled the loaded model, but the compiled metrics have yet to be built. `model.compile_metrics` will be empty until you train or evaluate the model.\n"
          ]
        },
        {
          "output_type": "stream",
          "name": "stdout",
          "text": [
            "\u001b[1m4/4\u001b[0m \u001b[32m━━━━━━━━━━━━━━━━━━━━\u001b[0m\u001b[37m\u001b[0m \u001b[1m0s\u001b[0m 23ms/step\n",
            "Actual: 4060000, Predicted: 4765895.0\n",
            "Actual: 6650000, Predicted: 4765895.0\n",
            "Actual: 3710000, Predicted: 4765895.0\n",
            "Actual: 6440000, Predicted: 4765895.0\n",
            "Actual: 2800000, Predicted: 4765895.0\n",
            "Actual: 4900000, Predicted: 4765895.0\n",
            "Actual: 5250000, Predicted: 4765895.0\n",
            "Actual: 4543000, Predicted: 4765895.0\n",
            "Actual: 2450000, Predicted: 4765895.0\n",
            "Actual: 3353000, Predicted: 4765895.0\n"
          ]
        }
      ]
    }
  ]
}